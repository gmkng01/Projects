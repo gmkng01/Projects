{
 "cells": [
  {
   "cell_type": "code",
   "execution_count": 1,
   "metadata": {},
   "outputs": [],
   "source": [
    "import pandas as pd\n",
    "import numpy as np\n",
    "from statsmodels.formula.api import ols\n",
    "\n",
    "import requests\n",
    "from selenium import webdriver\n",
    "from selenium.webdriver.chrome.service import Service\n",
    "from webdriver_manager.chrome import ChromeDriverManager\n",
    "from time import sleep\n",
    "from bs4 import BeautifulSoup\n",
    "import re\n",
    "import pprint\n",
    "\n",
    "import warnings\n",
    "warnings.filterwarnings('ignore')\n",
    "pd.set_option('display.max_column', 100, 'display.max_row', 1000)"
   ]
  },
  {
   "cell_type": "code",
   "execution_count": 2,
   "metadata": {},
   "outputs": [
    {
     "data": {
      "text/plain": [
       "(584, 19)"
      ]
     },
     "execution_count": 2,
     "metadata": {},
     "output_type": "execute_result"
    }
   ],
   "source": [
    "df = pd.read_csv('/home/abhishek/Documents/processors/pre_finel.csv')\n",
    "df.shape"
   ]
  },
  {
   "cell_type": "code",
   "execution_count": 3,
   "metadata": {},
   "outputs": [
    {
     "name": "stdout",
     "output_type": "stream",
     "text": [
      "<class 'pandas.core.frame.DataFrame'>\n",
      "RangeIndex: 584 entries, 0 to 583\n",
      "Data columns (total 19 columns):\n",
      " #   Column                              Non-Null Count  Dtype  \n",
      "---  ------                              --------------  -----  \n",
      " 0   Model                               584 non-null    object \n",
      " 1   Family                              584 non-null    object \n",
      " 2   Platform                            584 non-null    object \n",
      " 3   Launch_Date                         241 non-null    object \n",
      " 4   CPU_Core                            579 non-null    float64\n",
      " 5   Threads                             524 non-null    float64\n",
      " 6   Base_Clock_GHz                      584 non-null    object \n",
      " 7   Boost_Clock_GHz                     503 non-null    object \n",
      " 8   L1_Cache                            327 non-null    object \n",
      " 9   L2_Cache                            518 non-null    object \n",
      " 10  L3_Cache                            377 non-null    object \n",
      " 11  Unlocked_for_Overclocking           490 non-null    object \n",
      " 12  Chip_lithography                    482 non-null    object \n",
      " 13  CPU_Socket                          556 non-null    object \n",
      " 14  PCI_Express_Version                 338 non-null    object \n",
      " 15  Default_TDP                         565 non-null    object \n",
      " 16  Max._Operating_Temperature_(Tjmax)  448 non-null    object \n",
      " 17  System_Memory_Type                  549 non-null    object \n",
      " 18  Graphics_Model                      466 non-null    object \n",
      "dtypes: float64(2), object(17)\n",
      "memory usage: 86.8+ KB\n"
     ]
    }
   ],
   "source": [
    "df.info()"
   ]
  },
  {
   "cell_type": "code",
   "execution_count": 4,
   "metadata": {},
   "outputs": [
    {
     "data": {
      "text/plain": [
       "Model                                   0\n",
       "Family                                  0\n",
       "Platform                                0\n",
       "Launch_Date                           343\n",
       "CPU_Core                                5\n",
       "Threads                                60\n",
       "Base_Clock_GHz                          0\n",
       "Boost_Clock_GHz                        81\n",
       "L1_Cache                              257\n",
       "L2_Cache                               66\n",
       "L3_Cache                              207\n",
       "Unlocked_for_Overclocking              94\n",
       "Chip_lithography                      102\n",
       "CPU_Socket                             28\n",
       "PCI_Express_Version                   246\n",
       "Default_TDP                            19\n",
       "Max._Operating_Temperature_(Tjmax)    136\n",
       "System_Memory_Type                     35\n",
       "Graphics_Model                        118\n",
       "dtype: int64"
      ]
     },
     "execution_count": 4,
     "metadata": {},
     "output_type": "execute_result"
    }
   ],
   "source": [
    "df.isnull().sum()"
   ]
  },
  {
   "cell_type": "markdown",
   "metadata": {},
   "source": [
    "## Scraping the missing value"
   ]
  },
  {
   "cell_type": "markdown",
   "metadata": {},
   "source": [
    "#### Fixing the model name of the processors "
   ]
  },
  {
   "cell_type": "code",
   "execution_count": 5,
   "metadata": {},
   "outputs": [],
   "source": [
    "# df"
   ]
  },
  {
   "cell_type": "code",
   "execution_count": 6,
   "metadata": {},
   "outputs": [],
   "source": [
    "### Fixing the name of processor Family AMD Phenom $$$$$\n",
    "\n",
    "\n",
    "# df.loc[df['Family'] == 'AMD Phenom']\n",
    "\n",
    "\n",
    "# Could not find any way to fix the value of this column ****"
   ]
  },
  {
   "cell_type": "code",
   "execution_count": 7,
   "metadata": {},
   "outputs": [],
   "source": [
    "### Fixing the name of processor Family 'AMD Athlon Processors' $$$$$\n",
    "\n",
    "# df.loc[df['Family'] == 'AMD Athlon Processors']"
   ]
  },
  {
   "cell_type": "code",
   "execution_count": 8,
   "metadata": {},
   "outputs": [],
   "source": [
    "st = []\n",
    "for i in df.Model.iloc[453:461]:\n",
    "    s = 'Athlon-II-X4-{}'.format(i)\n",
    "    st.append(s)"
   ]
  },
  {
   "cell_type": "code",
   "execution_count": 9,
   "metadata": {},
   "outputs": [],
   "source": [
    "st2 = []\n",
    "for i in df.Model.iloc[469:483]:\n",
    "    s = 'Athlon-II-X4-{}'.format(i)\n",
    "    st2.append(s)"
   ]
  },
  {
   "cell_type": "code",
   "execution_count": 10,
   "metadata": {},
   "outputs": [],
   "source": [
    "df.Model.iloc[453:461] = st\n",
    "df.Model.iloc[469:483] = st2"
   ]
  },
  {
   "cell_type": "code",
   "execution_count": 11,
   "metadata": {},
   "outputs": [],
   "source": [
    "### Fixing the name of processor Family 'AMD Opteron' $$$$$\n",
    "\n",
    "# df.loc[df['Family'] == 'AMD Opteron']"
   ]
  },
  {
   "cell_type": "code",
   "execution_count": 12,
   "metadata": {},
   "outputs": [],
   "source": [
    "df['Model'] = [i.replace('Opteron-', '') for i in df['Model']]"
   ]
  },
  {
   "cell_type": "code",
   "execution_count": 13,
   "metadata": {},
   "outputs": [],
   "source": [
    "df.loc[df['Family'] == 'AMD Opteron'] = df.loc[df['Family'] == 'AMD Opteron'].assign(Model=df.loc[df['Family'] == 'AMD Opteron'].Family.astype(str) + \"-\" + df.loc[df['Family'] == 'AMD Opteron'].Model.astype(str))"
   ]
  },
  {
   "cell_type": "code",
   "execution_count": 14,
   "metadata": {},
   "outputs": [],
   "source": [
    "### Fixing the name of processor Family 'AMD Turion' $$$$$\n",
    "\n",
    "# df.loc[df['Family'] == 'AMD Turion']"
   ]
  },
  {
   "cell_type": "code",
   "execution_count": 15,
   "metadata": {},
   "outputs": [],
   "source": [
    "st3 = []\n",
    "for i in df.Model.loc[580:584]:\n",
    "    s = 'Turion-64-X2-{}'.format(i)\n",
    "    st3.append(s)\n",
    "    \n",
    "df.Model.loc[580:584] = st3"
   ]
  },
  {
   "cell_type": "code",
   "execution_count": 16,
   "metadata": {},
   "outputs": [],
   "source": [
    "df['Model'] = [i.replace('AMD ', '') for i in df['Model']] "
   ]
  },
  {
   "cell_type": "code",
   "execution_count": 17,
   "metadata": {},
   "outputs": [],
   "source": [
    "# df.loc[df['Launch_Date'] == 'Channel: 7/27/2017, OEM: 9/5/2016']"
   ]
  },
  {
   "cell_type": "code",
   "execution_count": 18,
   "metadata": {},
   "outputs": [],
   "source": [
    "# df.Launch_Date.value_counts()"
   ]
  },
  {
   "cell_type": "code",
   "execution_count": 19,
   "metadata": {},
   "outputs": [],
   "source": [
    "# df.to_csv('pre_finel2.csv', index=False)\n",
    "# #### Here manualy fix some problem in modal column by libreOffice"
   ]
  },
  {
   "cell_type": "markdown",
   "metadata": {},
   "source": [
    "Scraping the missing value"
   ]
  },
  {
   "cell_type": "code",
   "execution_count": 20,
   "metadata": {},
   "outputs": [],
   "source": [
    "lnch_date = df[df['Launch_Date'].isna()]"
   ]
  },
  {
   "cell_type": "code",
   "execution_count": 21,
   "metadata": {},
   "outputs": [],
   "source": [
    "# releas_date= []\n",
    "    \n",
    "# for j in df.Model:\n",
    "#     url = 'https://technical.city/en/cpu/{}'.format(j)\n",
    "#     my_header = {\"User-Agent\":\"Mozilla/5.0 (X11; Ubuntu; Linux x86_64; rv:97.0) Gecko/20100101 Firefox/97.0\", \"Accept\":\"text/html,application/xhtml+xml,application/xml;q=0.9,image/avif,image/webp,*/*;q=0.8\"}\n",
    "#     r = requests.get(url, headers= my_header).text\n",
    "#     soup = BeautifulSoup(r, 'html.parser')\n",
    "    \n",
    "#     try:\n",
    "#         parent0 = soup.find_all('div', class_ = 'type-info')\n",
    "#         parent1 = parent0[1].find_all('div', class_ = 'item')\n",
    "#         parent2 = parent1[0].find('strong')\n",
    "#         final = parent2.get_text(strip=True, separator=\" \")\n",
    "#         releas_date.append(final)\n",
    "    \n",
    "#     except:\n",
    "#         releas_date.append(np.NaN)"
   ]
  },
  {
   "cell_type": "code",
   "execution_count": 22,
   "metadata": {},
   "outputs": [],
   "source": [
    "# releas_date = pd.DataFrame(releas_date)"
   ]
  },
  {
   "cell_type": "code",
   "execution_count": 23,
   "metadata": {},
   "outputs": [],
   "source": [
    "# df.Launch_Date = releas_date"
   ]
  },
  {
   "cell_type": "code",
   "execution_count": 24,
   "metadata": {},
   "outputs": [],
   "source": [
    "# df[df['Launch_Date'].isna()].Launch_Date = releas_date"
   ]
  },
  {
   "cell_type": "code",
   "execution_count": 25,
   "metadata": {},
   "outputs": [],
   "source": [
    "# df['Launch_Date'].isnull().sum()"
   ]
  },
  {
   "cell_type": "code",
   "execution_count": 26,
   "metadata": {},
   "outputs": [],
   "source": [
    "# df[df['Launch_Date'].isna()]"
   ]
  },
  {
   "cell_type": "code",
   "execution_count": 27,
   "metadata": {},
   "outputs": [
    {
     "data": {
      "text/html": [
       "<div>\n",
       "<style scoped>\n",
       "    .dataframe tbody tr th:only-of-type {\n",
       "        vertical-align: middle;\n",
       "    }\n",
       "\n",
       "    .dataframe tbody tr th {\n",
       "        vertical-align: top;\n",
       "    }\n",
       "\n",
       "    .dataframe thead th {\n",
       "        text-align: right;\n",
       "    }\n",
       "</style>\n",
       "<table border=\"1\" class=\"dataframe\">\n",
       "  <thead>\n",
       "    <tr style=\"text-align: right;\">\n",
       "      <th></th>\n",
       "      <th>Model</th>\n",
       "      <th>Family</th>\n",
       "      <th>Platform</th>\n",
       "      <th>Launch_Date</th>\n",
       "      <th>CPU_Core</th>\n",
       "      <th>Threads</th>\n",
       "      <th>Base_Clock_GHz</th>\n",
       "      <th>Boost_Clock_GHz</th>\n",
       "      <th>L1_Cache</th>\n",
       "      <th>L2_Cache</th>\n",
       "      <th>L3_Cache</th>\n",
       "      <th>Unlocked_for_Overclocking</th>\n",
       "      <th>Chip_lithography</th>\n",
       "      <th>CPU_Socket</th>\n",
       "      <th>PCI_Express_Version</th>\n",
       "      <th>Default_TDP</th>\n",
       "      <th>Max._Operating_Temperature_(Tjmax)</th>\n",
       "      <th>System_Memory_Type</th>\n",
       "      <th>Graphics_Model</th>\n",
       "    </tr>\n",
       "  </thead>\n",
       "  <tbody>\n",
       "    <tr>\n",
       "      <th>0</th>\n",
       "      <td>Ryzen-Threadripper-PRO-5995WX</td>\n",
       "      <td>AMD Ryzen PRO Processors</td>\n",
       "      <td>Desktop</td>\n",
       "      <td>NaN</td>\n",
       "      <td>64.0</td>\n",
       "      <td>128.0</td>\n",
       "      <td>2.7GHz</td>\n",
       "      <td>Up to 4.5GHz</td>\n",
       "      <td>4096KB</td>\n",
       "      <td>32MB</td>\n",
       "      <td>256MB</td>\n",
       "      <td>No</td>\n",
       "      <td>TSMC 7nm FinFET</td>\n",
       "      <td>sWRX8</td>\n",
       "      <td>PCIe 4.0</td>\n",
       "      <td>280W</td>\n",
       "      <td>95°C</td>\n",
       "      <td>DDR4</td>\n",
       "      <td>Discrete Graphics Card Required</td>\n",
       "    </tr>\n",
       "    <tr>\n",
       "      <th>1</th>\n",
       "      <td>Ryzen-Threadripper-PRO-5975WX</td>\n",
       "      <td>AMD Ryzen PRO Processors</td>\n",
       "      <td>Desktop</td>\n",
       "      <td>NaN</td>\n",
       "      <td>32.0</td>\n",
       "      <td>64.0</td>\n",
       "      <td>3.6GHz</td>\n",
       "      <td>Up to 4.5GHz</td>\n",
       "      <td>2048KB</td>\n",
       "      <td>16MB</td>\n",
       "      <td>128MB</td>\n",
       "      <td>No</td>\n",
       "      <td>TSMC 7nm FinFET</td>\n",
       "      <td>sWRX8</td>\n",
       "      <td>PCIe 4.0</td>\n",
       "      <td>280W</td>\n",
       "      <td>95°C</td>\n",
       "      <td>DDR4</td>\n",
       "      <td>Discrete Graphics Card Required</td>\n",
       "    </tr>\n",
       "    <tr>\n",
       "      <th>2</th>\n",
       "      <td>Ryzen-Threadripper-PRO-5965WX</td>\n",
       "      <td>AMD Ryzen PRO Processors</td>\n",
       "      <td>Desktop</td>\n",
       "      <td>NaN</td>\n",
       "      <td>24.0</td>\n",
       "      <td>48.0</td>\n",
       "      <td>3.8GHz</td>\n",
       "      <td>Up to 4.5GHz</td>\n",
       "      <td>1536KB</td>\n",
       "      <td>12MB</td>\n",
       "      <td>128MB</td>\n",
       "      <td>No</td>\n",
       "      <td>TSMC 7nm FinFET</td>\n",
       "      <td>sWRX8</td>\n",
       "      <td>PCIe 4.0</td>\n",
       "      <td>280W</td>\n",
       "      <td>95°C</td>\n",
       "      <td>DDR4</td>\n",
       "      <td>Discrete Graphics Card Required</td>\n",
       "    </tr>\n",
       "    <tr>\n",
       "      <th>3</th>\n",
       "      <td>Ryzen-Threadripper-PRO-5955WX</td>\n",
       "      <td>AMD Ryzen PRO Processors</td>\n",
       "      <td>Desktop</td>\n",
       "      <td>NaN</td>\n",
       "      <td>16.0</td>\n",
       "      <td>32.0</td>\n",
       "      <td>4.0GHz</td>\n",
       "      <td>Up to 4.5GHz</td>\n",
       "      <td>1024KB</td>\n",
       "      <td>8MB</td>\n",
       "      <td>64MB</td>\n",
       "      <td>No</td>\n",
       "      <td>TSMC 7nm FinFET</td>\n",
       "      <td>sWRX8</td>\n",
       "      <td>PCIe 4.0</td>\n",
       "      <td>280W</td>\n",
       "      <td>95°C</td>\n",
       "      <td>DDR4</td>\n",
       "      <td>Discrete Graphics Card Required</td>\n",
       "    </tr>\n",
       "    <tr>\n",
       "      <th>4</th>\n",
       "      <td>Ryzen-Threadripper-PRO-5945WX</td>\n",
       "      <td>AMD Ryzen PRO Processors</td>\n",
       "      <td>Desktop</td>\n",
       "      <td>NaN</td>\n",
       "      <td>12.0</td>\n",
       "      <td>24.0</td>\n",
       "      <td>4.1GHz</td>\n",
       "      <td>Up to 4.5GHz</td>\n",
       "      <td>765KB</td>\n",
       "      <td>6MB</td>\n",
       "      <td>64MB</td>\n",
       "      <td>No</td>\n",
       "      <td>TSMC 7nm FinFET</td>\n",
       "      <td>sWRX8</td>\n",
       "      <td>PCIe 4.0</td>\n",
       "      <td>280W</td>\n",
       "      <td>95°C</td>\n",
       "      <td>DDR4</td>\n",
       "      <td>Discrete Graphics Card Required</td>\n",
       "    </tr>\n",
       "  </tbody>\n",
       "</table>\n",
       "</div>"
      ],
      "text/plain": [
       "                           Model                    Family Platform  \\\n",
       "0  Ryzen-Threadripper-PRO-5995WX  AMD Ryzen PRO Processors  Desktop   \n",
       "1  Ryzen-Threadripper-PRO-5975WX  AMD Ryzen PRO Processors  Desktop   \n",
       "2  Ryzen-Threadripper-PRO-5965WX  AMD Ryzen PRO Processors  Desktop   \n",
       "3  Ryzen-Threadripper-PRO-5955WX  AMD Ryzen PRO Processors  Desktop   \n",
       "4  Ryzen-Threadripper-PRO-5945WX  AMD Ryzen PRO Processors  Desktop   \n",
       "\n",
       "  Launch_Date  CPU_Core  Threads Base_Clock_GHz Boost_Clock_GHz L1_Cache  \\\n",
       "0         NaN      64.0    128.0         2.7GHz    Up to 4.5GHz   4096KB   \n",
       "1         NaN      32.0     64.0         3.6GHz    Up to 4.5GHz   2048KB   \n",
       "2         NaN      24.0     48.0         3.8GHz    Up to 4.5GHz   1536KB   \n",
       "3         NaN      16.0     32.0         4.0GHz    Up to 4.5GHz   1024KB   \n",
       "4         NaN      12.0     24.0         4.1GHz    Up to 4.5GHz    765KB   \n",
       "\n",
       "  L2_Cache L3_Cache Unlocked_for_Overclocking Chip_lithography CPU_Socket  \\\n",
       "0     32MB    256MB                        No  TSMC 7nm FinFET      sWRX8   \n",
       "1     16MB    128MB                        No  TSMC 7nm FinFET      sWRX8   \n",
       "2     12MB    128MB                        No  TSMC 7nm FinFET      sWRX8   \n",
       "3      8MB     64MB                        No  TSMC 7nm FinFET      sWRX8   \n",
       "4      6MB     64MB                        No  TSMC 7nm FinFET      sWRX8   \n",
       "\n",
       "  PCI_Express_Version Default_TDP Max._Operating_Temperature_(Tjmax)  \\\n",
       "0            PCIe 4.0        280W                               95°C   \n",
       "1            PCIe 4.0        280W                               95°C   \n",
       "2            PCIe 4.0        280W                               95°C   \n",
       "3            PCIe 4.0        280W                               95°C   \n",
       "4            PCIe 4.0        280W                               95°C   \n",
       "\n",
       "  System_Memory_Type                   Graphics_Model  \n",
       "0               DDR4  Discrete Graphics Card Required  \n",
       "1               DDR4  Discrete Graphics Card Required  \n",
       "2               DDR4  Discrete Graphics Card Required  \n",
       "3               DDR4  Discrete Graphics Card Required  \n",
       "4               DDR4  Discrete Graphics Card Required  "
      ]
     },
     "execution_count": 27,
     "metadata": {},
     "output_type": "execute_result"
    }
   ],
   "source": [
    "df.head()"
   ]
  }
 ],
 "metadata": {
  "kernelspec": {
   "display_name": "Python 3.10.4 64-bit",
   "language": "python",
   "name": "python3"
  },
  "language_info": {
   "codemirror_mode": {
    "name": "ipython",
    "version": 3
   },
   "file_extension": ".py",
   "mimetype": "text/x-python",
   "name": "python",
   "nbconvert_exporter": "python",
   "pygments_lexer": "ipython3",
   "version": "3.10.4"
  },
  "orig_nbformat": 4,
  "vscode": {
   "interpreter": {
    "hash": "916dbcbb3f70747c44a77c7bcd40155683ae19c65e1c03b4aa3499c5328201f1"
   }
  }
 },
 "nbformat": 4,
 "nbformat_minor": 2
}
