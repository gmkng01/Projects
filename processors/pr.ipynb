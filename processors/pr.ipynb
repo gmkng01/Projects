{
 "cells": [
  {
   "cell_type": "code",
   "execution_count": 1,
   "metadata": {},
   "outputs": [],
   "source": [
    "import pandas as pd\n",
    "import numpy as np\n",
    "from statsmodels.formula.api import ols\n",
    "\n",
    "import requests\n",
    "from selenium import webdriver\n",
    "from selenium.webdriver.chrome.service import Service\n",
    "from webdriver_manager.chrome import ChromeDriverManager\n",
    "from time import sleep\n",
    "from bs4 import BeautifulSoup\n",
    "import re\n",
    "import pprint\n",
    "\n",
    "import warnings\n",
    "warnings.filterwarnings('ignore')\n",
    "pd.set_option('display.max_column', 100, 'display.max_row', 1000)"
   ]
  },
  {
   "cell_type": "markdown",
   "metadata": {},
   "source": [
    "# Exploring the data and miner Cleaning"
   ]
  },
  {
   "cell_type": "code",
   "execution_count": 2,
   "metadata": {},
   "outputs": [],
   "source": [
    "# df = pd.read_csv(\"AMD_pro.csv\", encoding='cp1252')"
   ]
  },
  {
   "cell_type": "code",
   "execution_count": 3,
   "metadata": {},
   "outputs": [
    {
     "data": {
      "text/plain": [
       "(584, 40)"
      ]
     },
     "execution_count": 3,
     "metadata": {},
     "output_type": "execute_result"
    }
   ],
   "source": [
    "df = pd.read_csv('/home/abhishek/Documents/processors/tableExport.csv')\n",
    "df.shape"
   ]
  },
  {
   "cell_type": "code",
   "execution_count": 4,
   "metadata": {},
   "outputs": [],
   "source": [
    "# df.sample(5)"
   ]
  },
  {
   "cell_type": "code",
   "execution_count": 5,
   "metadata": {},
   "outputs": [],
   "source": [
    "df.columns = [sub.replace(' ', '_') for sub in df.columns]\n",
    "df.rename(columns = {'Base_Clock' : 'Base_Clock_GHz', 'Max._Boost_Clock_¹_²' : 'Boost_Clock_GHz', \n",
    "                     '#_of_CPU_Cores' : 'CPU_Core', '#_of_Threads' : 'Threads',\n",
    "                     'Processor_Technology_for_CPU_Cores' : 'Chip_lithography','PCI_Express®_Version' : 'PCI_Express_Version',\n",
    "                     'Max. Operating Temperature (Tjmax)' : 'Maximum_core_temperature', }, inplace = True)"
   ]
  },
  {
   "cell_type": "code",
   "execution_count": 6,
   "metadata": {},
   "outputs": [],
   "source": [
    "df.Model = [i.replace('™', '') for i in df.Model]\n",
    "df.Family = [i.replace('™', '') for i in df.Family]\n",
    "\n",
    "df = df.astype({\"Graphics_Model\":'str'})\n",
    "df.Graphics_Model = [i.replace('™', '') for i in df.Graphics_Model]"
   ]
  },
  {
   "cell_type": "code",
   "execution_count": 7,
   "metadata": {},
   "outputs": [
    {
     "name": "stdout",
     "output_type": "stream",
     "text": [
      "<class 'pandas.core.frame.DataFrame'>\n",
      "RangeIndex: 584 entries, 0 to 583\n",
      "Data columns (total 40 columns):\n",
      " #   Column                              Non-Null Count  Dtype  \n",
      "---  ------                              --------------  -----  \n",
      " 0   Unnamed:_0                          0 non-null      float64\n",
      " 1   Unnamed:_1                          584 non-null    object \n",
      " 2   Model                               584 non-null    object \n",
      " 3   Family                              584 non-null    object \n",
      " 4   Line                                584 non-null    object \n",
      " 5   Platform                            584 non-null    object \n",
      " 6   Product_ID_Tray                     545 non-null    object \n",
      " 7   Product_ID_Boxed                    222 non-null    object \n",
      " 8   Product_ID_MPK                      59 non-null     object \n",
      " 9   Launch_Date                         241 non-null    object \n",
      " 10  CPU_Core                            579 non-null    float64\n",
      " 11  Threads                             524 non-null    float64\n",
      " 12  Graphics_Core_Count                 255 non-null    float64\n",
      " 13  Base_Clock_GHz                      584 non-null    object \n",
      " 14  Boost_Clock_GHz                     503 non-null    object \n",
      " 15  All_Core_Boost_Speed                14 non-null     object \n",
      " 16  L1_Cache                            327 non-null    object \n",
      " 17  L2_Cache                            518 non-null    object \n",
      " 18  L3_Cache                            377 non-null    object \n",
      " 19  1kU_Pricing                         42 non-null     object \n",
      " 20  Unlocked_for_Overclocking           490 non-null    object \n",
      " 21  Chip_lithography                    482 non-null    object \n",
      " 22  CPU_Socket                          556 non-null    object \n",
      " 23  Socket_Count                        80 non-null     object \n",
      " 24  PCI_Express_Version                 338 non-null    object \n",
      " 25  Thermal_Solution_PIB                79 non-null     object \n",
      " 26  Thermal_Solution_MPK                46 non-null     object \n",
      " 27  Default_TDP                         565 non-null    object \n",
      " 28  AMD_Configurable_TDP_(cTDP)         156 non-null    object \n",
      " 29  Max._Operating_Temperature_(Tjmax)  448 non-null    object \n",
      " 30  *OS_Support                         295 non-null    object \n",
      " 31  System_Memory_Specification         457 non-null    object \n",
      " 32  System_Memory_Type                  549 non-null    object \n",
      " 33  Memory_Channels                     403 non-null    float64\n",
      " 34  Per_Socket_Mem_BW                   62 non-null     object \n",
      " 35  Graphics_Frequency                  293 non-null    object \n",
      " 36  GPU_Base                            4 non-null      object \n",
      " 37  Graphics_Model                      584 non-null    object \n",
      " 38  Supported_Technologies              357 non-null    object \n",
      " 39  Workload_Affinity                   62 non-null     object \n",
      "dtypes: float64(5), object(35)\n",
      "memory usage: 182.6+ KB\n"
     ]
    }
   ],
   "source": [
    "df.info()"
   ]
  },
  {
   "cell_type": "markdown",
   "metadata": {},
   "source": [
    "# Handeling the Missing Values"
   ]
  },
  {
   "cell_type": "code",
   "execution_count": 8,
   "metadata": {},
   "outputs": [
    {
     "data": {
      "text/plain": [
       "Unnamed:_0                            584\n",
       "Unnamed:_1                              0\n",
       "Model                                   0\n",
       "Family                                  0\n",
       "Line                                    0\n",
       "Platform                                0\n",
       "Product_ID_Tray                        39\n",
       "Product_ID_Boxed                      362\n",
       "Product_ID_MPK                        525\n",
       "Launch_Date                           343\n",
       "CPU_Core                                5\n",
       "Threads                                60\n",
       "Graphics_Core_Count                   329\n",
       "Base_Clock_GHz                          0\n",
       "Boost_Clock_GHz                        81\n",
       "All_Core_Boost_Speed                  570\n",
       "L1_Cache                              257\n",
       "L2_Cache                               66\n",
       "L3_Cache                              207\n",
       "1kU_Pricing                           542\n",
       "Unlocked_for_Overclocking              94\n",
       "Chip_lithography                      102\n",
       "CPU_Socket                             28\n",
       "Socket_Count                          504\n",
       "PCI_Express_Version                   246\n",
       "Thermal_Solution_PIB                  505\n",
       "Thermal_Solution_MPK                  538\n",
       "Default_TDP                            19\n",
       "AMD_Configurable_TDP_(cTDP)           428\n",
       "Max._Operating_Temperature_(Tjmax)    136\n",
       "*OS_Support                           289\n",
       "System_Memory_Specification           127\n",
       "System_Memory_Type                     35\n",
       "Memory_Channels                       181\n",
       "Per_Socket_Mem_BW                     522\n",
       "Graphics_Frequency                    291\n",
       "GPU_Base                              580\n",
       "Graphics_Model                          0\n",
       "Supported_Technologies                227\n",
       "Workload_Affinity                     522\n",
       "dtype: int64"
      ]
     },
     "execution_count": 8,
     "metadata": {},
     "output_type": "execute_result"
    }
   ],
   "source": [
    "df.isnull().sum()"
   ]
  },
  {
   "cell_type": "markdown",
   "metadata": {},
   "source": [
    "#### Dropped useless features"
   ]
  },
  {
   "cell_type": "code",
   "execution_count": 9,
   "metadata": {},
   "outputs": [],
   "source": [
    "df.drop(['Unnamed:_0', 'Unnamed:_1', 'Product_ID_Tray', 'Product_ID_Boxed', 'Product_ID_MPK',\n",
    "         'Line', 'Graphics_Core_Count', 'All_Core_Boost_Speed', 'Socket_Count', '1kU_Pricing',\n",
    "         'Thermal_Solution_PIB', 'Thermal_Solution_MPK', '*OS_Support', 'Memory_Channels', 'Per_Socket_Mem_BW', 'Graphics_Frequency', 'GPU_Base',\n",
    "         'Supported_Technologies', 'Workload_Affinity', 'AMD_Configurable_TDP_(cTDP)', 'System_Memory_Specification'], axis=1, inplace = True)"
   ]
  },
  {
   "cell_type": "code",
   "execution_count": 10,
   "metadata": {},
   "outputs": [
    {
     "data": {
      "text/plain": [
       "(584, 19)"
      ]
     },
     "execution_count": 10,
     "metadata": {},
     "output_type": "execute_result"
    }
   ],
   "source": [
    "df.shape"
   ]
  },
  {
   "cell_type": "code",
   "execution_count": 11,
   "metadata": {},
   "outputs": [
    {
     "data": {
      "text/plain": [
       "Model                                   0\n",
       "Family                                  0\n",
       "Platform                                0\n",
       "Launch_Date                           343\n",
       "CPU_Core                                5\n",
       "Threads                                60\n",
       "Base_Clock_GHz                          0\n",
       "Boost_Clock_GHz                        81\n",
       "L1_Cache                              257\n",
       "L2_Cache                               66\n",
       "L3_Cache                              207\n",
       "Unlocked_for_Overclocking              94\n",
       "Chip_lithography                      102\n",
       "CPU_Socket                             28\n",
       "PCI_Express_Version                   246\n",
       "Default_TDP                            19\n",
       "Max._Operating_Temperature_(Tjmax)    136\n",
       "System_Memory_Type                     35\n",
       "Graphics_Model                          0\n",
       "dtype: int64"
      ]
     },
     "execution_count": 11,
     "metadata": {},
     "output_type": "execute_result"
    }
   ],
   "source": [
    "df.isnull().sum()"
   ]
  },
  {
   "cell_type": "markdown",
   "metadata": {},
   "source": [
    "## Scrapping the value"
   ]
  },
  {
   "cell_type": "markdown",
   "metadata": {},
   "source": [
    "### Preparing the data for scraping"
   ]
  },
  {
   "cell_type": "code",
   "execution_count": 12,
   "metadata": {},
   "outputs": [],
   "source": [
    "model = df.Model\n",
    "# mc = df.Model"
   ]
  },
  {
   "cell_type": "code",
   "execution_count": 13,
   "metadata": {},
   "outputs": [],
   "source": [
    "\n",
    "\n",
    "# list_of_things_to_remove = ['AMD ', '\\u200b', ' (OEM Only)', ' Processor', ' with Radeon RX Vega 11 Graphics', \n",
    "#                             ' Microsoft Surface® Edition',  'with Radeon Vega 8 Graphics', ' Mobile with Radeon Vega 3 Graphics', \n",
    "#                             ' with Radeon Vega 11 Graphics', '7th Gen ', '6th Gen ', ' APU', ' with Radeon R7 Graphics and Wraith cooler', \n",
    "#                             ' with Radeon R7 Graphics and Near Silent Thermal Solution', \n",
    "#                             ' with Radeon HD 8670D', ' with Radeon HD 8650D', ' with Radeon HD 8570D', \n",
    "#                             ' with Radeon HD 8550D', ' with Radeon HD 8470D', ' with Radeon HD 8400', \n",
    "#                             ' with Radeon HD 8370D', ' with Radeon HD 8330', ' with Radeon HD 8450G', \n",
    "#                             ' with Radeon HD 8280', ' with Radeon HD 8240', ' with Radeon HD 8210', \n",
    "#                             ' with Radeon R4 Graphics', ' with Radeon R6 Graphics', ' with Radeon R5 Graphics', \n",
    "#                             ' with Radeon R3 Graphics', ' with Radeon R7 Graphics', ' with Radeon R7 Graphics', \n",
    "#                             ' with Radeon R2 Graphics', ' with Radeon R2 Graphics', ' with Radeon R5 Series', \n",
    "#                             ' with Radeon R3 Series',' with Radeon R7 Series', ' with Wraith cooler', \n",
    "#                             ' with Near Silent Thermal Solution', \n",
    "#                             ]\n",
    "\n",
    "# # # list_of_things_to_remove = pd.DataFrame(list_of_things_to_remove)\n",
    "# # df['Model'] = df['Model'].values.tolist()"
   ]
  },
  {
   "cell_type": "code",
   "execution_count": 14,
   "metadata": {},
   "outputs": [],
   "source": [
    "for i in range (len(model)):\n",
    "    x=df['Model'][i].partition(\" with\")\n",
    "    df['Model'][i] = x[0]\n",
    "\n",
    "df['Model'] = [i.replace('AMD ', '') for i in df['Model']] \n",
    "df['Model'] = [i.replace('\\u200b', '') for i in df['Model']]\n",
    "df['Model'] = [i.replace(' (OEM Only)', '') for i in df['Model']]\n",
    "df['Model'] = [i.replace(' Processor', '') for i in df['Model']]\n",
    "df['Model'] = [i.replace(' Microsoft Surface® Edition', '') for i in df['Model']]\n",
    "df['Model'] = [i.replace(' Mobile with Radeon Vega 3 Graphics', '') for i in df['Model']]\n",
    "df['Model'] = [i.replace('7th Gen ', '') for i in df['Model']]\n",
    "df['Model'] = [i.replace('6th Gen ', '') for i in df['Model']]\n",
    "df['Model'] = [i.replace(' APU', '') for i in df['Model']]\n",
    "\n",
    "# df['Model'] = [i.replace('TL-56', 'Turion-64-X2-TL-56') for i in df['Model']]\n",
    "# df['Model'] = [i.replace('TL-64', 'Turion-64-X2-TL-64') for i in df['Model']]\n",
    "# df['Model'] = [i.replace('TL-60', 'Turion-64-X2-TL-60') for i in df['Model']]\n",
    "# df['Model'] = [i.replace('TL-52', 'Turion-64-X2-TL-52') for i in df['Model']]\n",
    "\n",
    "# df['Model'] = [i.replace('3250 HE', 'Opteron 3250 HE') for i in df['Model']]\n",
    "# df['Model'] = [i.replace('1045T', 'Phenom II X6 1045T') for i in df['Model']]\n",
    "# df['Model'] = [i.replace('B95', 'Phenom II X4 B95') for i in df['Model']]\n",
    "\n",
    "df['Model'] = [i.replace(' ', '-') for i in df['Model']]"
   ]
  },
  {
   "cell_type": "code",
   "execution_count": 15,
   "metadata": {},
   "outputs": [],
   "source": [
    "df.to_csv('pre_finel.csv', index=False)"
   ]
  },
  {
   "cell_type": "code",
   "execution_count": 16,
   "metadata": {},
   "outputs": [],
   "source": [
    "opteron = df.loc[df['Family'] == 'AMD Opteron']"
   ]
  },
  {
   "cell_type": "code",
   "execution_count": 17,
   "metadata": {},
   "outputs": [],
   "source": [
    "# opteron"
   ]
  },
  {
   "cell_type": "code",
   "execution_count": 18,
   "metadata": {},
   "outputs": [
    {
     "data": {
      "text/html": [
       "<div>\n",
       "<style scoped>\n",
       "    .dataframe tbody tr th:only-of-type {\n",
       "        vertical-align: middle;\n",
       "    }\n",
       "\n",
       "    .dataframe tbody tr th {\n",
       "        vertical-align: top;\n",
       "    }\n",
       "\n",
       "    .dataframe thead th {\n",
       "        text-align: right;\n",
       "    }\n",
       "</style>\n",
       "<table border=\"1\" class=\"dataframe\">\n",
       "  <thead>\n",
       "    <tr style=\"text-align: right;\">\n",
       "      <th></th>\n",
       "      <th>Model</th>\n",
       "      <th>Family</th>\n",
       "      <th>Platform</th>\n",
       "      <th>Launch_Date</th>\n",
       "      <th>CPU_Core</th>\n",
       "      <th>Threads</th>\n",
       "      <th>Base_Clock_GHz</th>\n",
       "      <th>Boost_Clock_GHz</th>\n",
       "      <th>L1_Cache</th>\n",
       "      <th>L2_Cache</th>\n",
       "      <th>L3_Cache</th>\n",
       "      <th>Unlocked_for_Overclocking</th>\n",
       "      <th>Chip_lithography</th>\n",
       "      <th>CPU_Socket</th>\n",
       "      <th>PCI_Express_Version</th>\n",
       "      <th>Default_TDP</th>\n",
       "      <th>Max._Operating_Temperature_(Tjmax)</th>\n",
       "      <th>System_Memory_Type</th>\n",
       "      <th>Graphics_Model</th>\n",
       "    </tr>\n",
       "  </thead>\n",
       "  <tbody>\n",
       "    <tr>\n",
       "      <th>0</th>\n",
       "      <td>Ryzen-Threadripper-PRO-5995WX</td>\n",
       "      <td>AMD Ryzen PRO Processors</td>\n",
       "      <td>Desktop</td>\n",
       "      <td>NaN</td>\n",
       "      <td>64.0</td>\n",
       "      <td>128.0</td>\n",
       "      <td>2.7GHz</td>\n",
       "      <td>Up to 4.5GHz</td>\n",
       "      <td>4096KB</td>\n",
       "      <td>32MB</td>\n",
       "      <td>256MB</td>\n",
       "      <td>No</td>\n",
       "      <td>TSMC 7nm FinFET</td>\n",
       "      <td>sWRX8</td>\n",
       "      <td>PCIe 4.0</td>\n",
       "      <td>280W</td>\n",
       "      <td>95°C</td>\n",
       "      <td>DDR4</td>\n",
       "      <td>Discrete Graphics Card Required</td>\n",
       "    </tr>\n",
       "    <tr>\n",
       "      <th>1</th>\n",
       "      <td>Ryzen-Threadripper-PRO-5975WX</td>\n",
       "      <td>AMD Ryzen PRO Processors</td>\n",
       "      <td>Desktop</td>\n",
       "      <td>NaN</td>\n",
       "      <td>32.0</td>\n",
       "      <td>64.0</td>\n",
       "      <td>3.6GHz</td>\n",
       "      <td>Up to 4.5GHz</td>\n",
       "      <td>2048KB</td>\n",
       "      <td>16MB</td>\n",
       "      <td>128MB</td>\n",
       "      <td>No</td>\n",
       "      <td>TSMC 7nm FinFET</td>\n",
       "      <td>sWRX8</td>\n",
       "      <td>PCIe 4.0</td>\n",
       "      <td>280W</td>\n",
       "      <td>95°C</td>\n",
       "      <td>DDR4</td>\n",
       "      <td>Discrete Graphics Card Required</td>\n",
       "    </tr>\n",
       "    <tr>\n",
       "      <th>2</th>\n",
       "      <td>Ryzen-Threadripper-PRO-5965WX</td>\n",
       "      <td>AMD Ryzen PRO Processors</td>\n",
       "      <td>Desktop</td>\n",
       "      <td>NaN</td>\n",
       "      <td>24.0</td>\n",
       "      <td>48.0</td>\n",
       "      <td>3.8GHz</td>\n",
       "      <td>Up to 4.5GHz</td>\n",
       "      <td>1536KB</td>\n",
       "      <td>12MB</td>\n",
       "      <td>128MB</td>\n",
       "      <td>No</td>\n",
       "      <td>TSMC 7nm FinFET</td>\n",
       "      <td>sWRX8</td>\n",
       "      <td>PCIe 4.0</td>\n",
       "      <td>280W</td>\n",
       "      <td>95°C</td>\n",
       "      <td>DDR4</td>\n",
       "      <td>Discrete Graphics Card Required</td>\n",
       "    </tr>\n",
       "    <tr>\n",
       "      <th>3</th>\n",
       "      <td>Ryzen-Threadripper-PRO-5955WX</td>\n",
       "      <td>AMD Ryzen PRO Processors</td>\n",
       "      <td>Desktop</td>\n",
       "      <td>NaN</td>\n",
       "      <td>16.0</td>\n",
       "      <td>32.0</td>\n",
       "      <td>4.0GHz</td>\n",
       "      <td>Up to 4.5GHz</td>\n",
       "      <td>1024KB</td>\n",
       "      <td>8MB</td>\n",
       "      <td>64MB</td>\n",
       "      <td>No</td>\n",
       "      <td>TSMC 7nm FinFET</td>\n",
       "      <td>sWRX8</td>\n",
       "      <td>PCIe 4.0</td>\n",
       "      <td>280W</td>\n",
       "      <td>95°C</td>\n",
       "      <td>DDR4</td>\n",
       "      <td>Discrete Graphics Card Required</td>\n",
       "    </tr>\n",
       "    <tr>\n",
       "      <th>4</th>\n",
       "      <td>Ryzen-Threadripper-PRO-5945WX</td>\n",
       "      <td>AMD Ryzen PRO Processors</td>\n",
       "      <td>Desktop</td>\n",
       "      <td>NaN</td>\n",
       "      <td>12.0</td>\n",
       "      <td>24.0</td>\n",
       "      <td>4.1GHz</td>\n",
       "      <td>Up to 4.5GHz</td>\n",
       "      <td>765KB</td>\n",
       "      <td>6MB</td>\n",
       "      <td>64MB</td>\n",
       "      <td>No</td>\n",
       "      <td>TSMC 7nm FinFET</td>\n",
       "      <td>sWRX8</td>\n",
       "      <td>PCIe 4.0</td>\n",
       "      <td>280W</td>\n",
       "      <td>95°C</td>\n",
       "      <td>DDR4</td>\n",
       "      <td>Discrete Graphics Card Required</td>\n",
       "    </tr>\n",
       "  </tbody>\n",
       "</table>\n",
       "</div>"
      ],
      "text/plain": [
       "                           Model                    Family Platform  \\\n",
       "0  Ryzen-Threadripper-PRO-5995WX  AMD Ryzen PRO Processors  Desktop   \n",
       "1  Ryzen-Threadripper-PRO-5975WX  AMD Ryzen PRO Processors  Desktop   \n",
       "2  Ryzen-Threadripper-PRO-5965WX  AMD Ryzen PRO Processors  Desktop   \n",
       "3  Ryzen-Threadripper-PRO-5955WX  AMD Ryzen PRO Processors  Desktop   \n",
       "4  Ryzen-Threadripper-PRO-5945WX  AMD Ryzen PRO Processors  Desktop   \n",
       "\n",
       "  Launch_Date  CPU_Core  Threads Base_Clock_GHz Boost_Clock_GHz L1_Cache  \\\n",
       "0         NaN      64.0    128.0         2.7GHz    Up to 4.5GHz   4096KB   \n",
       "1         NaN      32.0     64.0         3.6GHz    Up to 4.5GHz   2048KB   \n",
       "2         NaN      24.0     48.0         3.8GHz    Up to 4.5GHz   1536KB   \n",
       "3         NaN      16.0     32.0         4.0GHz    Up to 4.5GHz   1024KB   \n",
       "4         NaN      12.0     24.0         4.1GHz    Up to 4.5GHz    765KB   \n",
       "\n",
       "  L2_Cache L3_Cache Unlocked_for_Overclocking Chip_lithography CPU_Socket  \\\n",
       "0     32MB    256MB                        No  TSMC 7nm FinFET      sWRX8   \n",
       "1     16MB    128MB                        No  TSMC 7nm FinFET      sWRX8   \n",
       "2     12MB    128MB                        No  TSMC 7nm FinFET      sWRX8   \n",
       "3      8MB     64MB                        No  TSMC 7nm FinFET      sWRX8   \n",
       "4      6MB     64MB                        No  TSMC 7nm FinFET      sWRX8   \n",
       "\n",
       "  PCI_Express_Version Default_TDP Max._Operating_Temperature_(Tjmax)  \\\n",
       "0            PCIe 4.0        280W                               95°C   \n",
       "1            PCIe 4.0        280W                               95°C   \n",
       "2            PCIe 4.0        280W                               95°C   \n",
       "3            PCIe 4.0        280W                               95°C   \n",
       "4            PCIe 4.0        280W                               95°C   \n",
       "\n",
       "  System_Memory_Type                   Graphics_Model  \n",
       "0               DDR4  Discrete Graphics Card Required  \n",
       "1               DDR4  Discrete Graphics Card Required  \n",
       "2               DDR4  Discrete Graphics Card Required  \n",
       "3               DDR4  Discrete Graphics Card Required  \n",
       "4               DDR4  Discrete Graphics Card Required  "
      ]
     },
     "execution_count": 18,
     "metadata": {},
     "output_type": "execute_result"
    }
   ],
   "source": [
    "df.head()"
   ]
  },
  {
   "cell_type": "markdown",
   "metadata": {},
   "source": [
    "#### 1st feature that have missing value is 'Launch_Date'"
   ]
  },
  {
   "cell_type": "code",
   "execution_count": 19,
   "metadata": {},
   "outputs": [],
   "source": [
    "lnch_date = df[df['Launch_Date'].isna()]"
   ]
  },
  {
   "cell_type": "code",
   "execution_count": 20,
   "metadata": {},
   "outputs": [],
   "source": [
    "releas_date= []\n",
    "    \n",
    "for j in lnch_date.Model:\n",
    "    url = 'https://technical.city/en/cpu/{}'.format(j)\n",
    "    my_header = {\"User-Agent\":\"Mozilla/5.0 (X11; Ubuntu; Linux x86_64; rv:97.0) Gecko/20100101 Firefox/97.0\", \"Accept\":\"text/html,application/xhtml+xml,application/xml;q=0.9,image/avif,image/webp,*/*;q=0.8\"}\n",
    "    r = requests.get(url, headers= my_header).text\n",
    "    soup = BeautifulSoup(r, 'html.parser')\n",
    "    \n",
    "    try:\n",
    "        parent0 = soup.find_all('div', class_ = 'type-info')\n",
    "        parent1 = parent0[1].find_all('div', class_ = 'item')\n",
    "        parent2 = parent1[0].find('strong')\n",
    "        final = parent2.get_text(strip=True, separator=\" \")\n",
    "        releas_date.append(final)\n",
    "    \n",
    "    except:\n",
    "        releas_date.append(np.NaN)"
   ]
  },
  {
   "cell_type": "code",
   "execution_count": 21,
   "metadata": {},
   "outputs": [],
   "source": [
    "releas_date = pd.DataFrame(releas_date)"
   ]
  },
  {
   "cell_type": "code",
   "execution_count": 22,
   "metadata": {},
   "outputs": [
    {
     "data": {
      "text/plain": [
       "0    115\n",
       "dtype: int64"
      ]
     },
     "execution_count": 22,
     "metadata": {},
     "output_type": "execute_result"
    }
   ],
   "source": [
    "releas_date.isnull().sum()"
   ]
  },
  {
   "cell_type": "code",
   "execution_count": 23,
   "metadata": {},
   "outputs": [],
   "source": [
    "series1=releas_date.iloc[:,0]"
   ]
  },
  {
   "cell_type": "code",
   "execution_count": 24,
   "metadata": {},
   "outputs": [
    {
     "data": {
      "text/plain": [
       "(343,)"
      ]
     },
     "execution_count": 24,
     "metadata": {},
     "output_type": "execute_result"
    }
   ],
   "source": [
    "series1.shape"
   ]
  },
  {
   "cell_type": "code",
   "execution_count": 25,
   "metadata": {},
   "outputs": [],
   "source": [
    "df.Launch_Date = df['Launch_Date'].fillna(series1)"
   ]
  },
  {
   "cell_type": "code",
   "execution_count": 26,
   "metadata": {},
   "outputs": [
    {
     "data": {
      "text/plain": [
       "273"
      ]
     },
     "execution_count": 26,
     "metadata": {},
     "output_type": "execute_result"
    }
   ],
   "source": [
    "df.Launch_Date.isnull().sum()"
   ]
  },
  {
   "cell_type": "code",
   "execution_count": 54,
   "metadata": {},
   "outputs": [
    {
     "data": {
      "text/plain": [
       "(273,)"
      ]
     },
     "execution_count": 54,
     "metadata": {},
     "output_type": "execute_result"
    }
   ],
   "source": [
    "df[df['Launch_Date'].isna()].Launch_Date.shape"
   ]
  },
  {
   "cell_type": "markdown",
   "metadata": {},
   "source": [
    "#### 2nd feature that have missing value is '#_of_CPU_Cores'"
   ]
  },
  {
   "cell_type": "code",
   "execution_count": 28,
   "metadata": {},
   "outputs": [
    {
     "data": {
      "text/html": [
       "<div>\n",
       "<style scoped>\n",
       "    .dataframe tbody tr th:only-of-type {\n",
       "        vertical-align: middle;\n",
       "    }\n",
       "\n",
       "    .dataframe tbody tr th {\n",
       "        vertical-align: top;\n",
       "    }\n",
       "\n",
       "    .dataframe thead th {\n",
       "        text-align: right;\n",
       "    }\n",
       "</style>\n",
       "<table border=\"1\" class=\"dataframe\">\n",
       "  <thead>\n",
       "    <tr style=\"text-align: right;\">\n",
       "      <th></th>\n",
       "      <th>Model</th>\n",
       "      <th>Family</th>\n",
       "      <th>Platform</th>\n",
       "      <th>Launch_Date</th>\n",
       "      <th>CPU_Core</th>\n",
       "      <th>Threads</th>\n",
       "      <th>Base_Clock_GHz</th>\n",
       "      <th>Boost_Clock_GHz</th>\n",
       "      <th>L1_Cache</th>\n",
       "      <th>L2_Cache</th>\n",
       "      <th>L3_Cache</th>\n",
       "      <th>Unlocked_for_Overclocking</th>\n",
       "      <th>Chip_lithography</th>\n",
       "      <th>CPU_Socket</th>\n",
       "      <th>PCI_Express_Version</th>\n",
       "      <th>Default_TDP</th>\n",
       "      <th>Max._Operating_Temperature_(Tjmax)</th>\n",
       "      <th>System_Memory_Type</th>\n",
       "      <th>Graphics_Model</th>\n",
       "    </tr>\n",
       "  </thead>\n",
       "  <tbody>\n",
       "    <tr>\n",
       "      <th>414</th>\n",
       "      <td>1045T</td>\n",
       "      <td>AMD Phenom</td>\n",
       "      <td>Boxed Processor</td>\n",
       "      <td>NaN</td>\n",
       "      <td>NaN</td>\n",
       "      <td>NaN</td>\n",
       "      <td>2.7GHz</td>\n",
       "      <td>Up to 3.2GHz</td>\n",
       "      <td>768KB</td>\n",
       "      <td>3MB</td>\n",
       "      <td>6MB</td>\n",
       "      <td>No</td>\n",
       "      <td>NaN</td>\n",
       "      <td>AM3</td>\n",
       "      <td>NaN</td>\n",
       "      <td>95W</td>\n",
       "      <td>71°C</td>\n",
       "      <td>Not Listed</td>\n",
       "      <td>Discrete Graphics Card Required</td>\n",
       "    </tr>\n",
       "    <tr>\n",
       "      <th>445</th>\n",
       "      <td>B95</td>\n",
       "      <td>AMD Phenom</td>\n",
       "      <td>Desktop</td>\n",
       "      <td>NaN</td>\n",
       "      <td>NaN</td>\n",
       "      <td>NaN</td>\n",
       "      <td>3.0GHz</td>\n",
       "      <td>NaN</td>\n",
       "      <td>NaN</td>\n",
       "      <td>2MB</td>\n",
       "      <td>NaN</td>\n",
       "      <td>No</td>\n",
       "      <td>NaN</td>\n",
       "      <td>AM3</td>\n",
       "      <td>NaN</td>\n",
       "      <td>95W</td>\n",
       "      <td>NaN</td>\n",
       "      <td>Not Listed</td>\n",
       "      <td>Discrete Graphics Card Required</td>\n",
       "    </tr>\n",
       "    <tr>\n",
       "      <th>484</th>\n",
       "      <td>2800+</td>\n",
       "      <td>AMD Sempron</td>\n",
       "      <td>Desktop</td>\n",
       "      <td>NaN</td>\n",
       "      <td>NaN</td>\n",
       "      <td>NaN</td>\n",
       "      <td>56MHz</td>\n",
       "      <td>NaN</td>\n",
       "      <td>NaN</td>\n",
       "      <td>NaN</td>\n",
       "      <td>NaN</td>\n",
       "      <td>No</td>\n",
       "      <td>65nm</td>\n",
       "      <td>939</td>\n",
       "      <td>NaN</td>\n",
       "      <td>45W</td>\n",
       "      <td>70°C</td>\n",
       "      <td>Not Listed</td>\n",
       "      <td>Discrete Graphics Card Required</td>\n",
       "    </tr>\n",
       "    <tr>\n",
       "      <th>578</th>\n",
       "      <td>3250-HE</td>\n",
       "      <td>AMD Opteron</td>\n",
       "      <td>Server</td>\n",
       "      <td>NaN</td>\n",
       "      <td>NaN</td>\n",
       "      <td>NaN</td>\n",
       "      <td>2.5GHz</td>\n",
       "      <td>Up to 3.5GHz</td>\n",
       "      <td>192KB</td>\n",
       "      <td>4MB</td>\n",
       "      <td>4MB</td>\n",
       "      <td>No</td>\n",
       "      <td>32nm</td>\n",
       "      <td>AM3+</td>\n",
       "      <td>NaN</td>\n",
       "      <td>45W</td>\n",
       "      <td>NaN</td>\n",
       "      <td>DDR3</td>\n",
       "      <td>nan</td>\n",
       "    </tr>\n",
       "    <tr>\n",
       "      <th>582</th>\n",
       "      <td>TL-56</td>\n",
       "      <td>AMD Turion</td>\n",
       "      <td>Laptop</td>\n",
       "      <td>NaN</td>\n",
       "      <td>NaN</td>\n",
       "      <td>NaN</td>\n",
       "      <td>1.8GHz</td>\n",
       "      <td>NaN</td>\n",
       "      <td>NaN</td>\n",
       "      <td>NaN</td>\n",
       "      <td>NaN</td>\n",
       "      <td>No</td>\n",
       "      <td>NaN</td>\n",
       "      <td>S1</td>\n",
       "      <td>NaN</td>\n",
       "      <td>31W</td>\n",
       "      <td>NaN</td>\n",
       "      <td>Not Listed</td>\n",
       "      <td>Discrete Graphics Card Required</td>\n",
       "    </tr>\n",
       "  </tbody>\n",
       "</table>\n",
       "</div>"
      ],
      "text/plain": [
       "       Model       Family         Platform Launch_Date  CPU_Core  Threads  \\\n",
       "414    1045T   AMD Phenom  Boxed Processor         NaN       NaN      NaN   \n",
       "445      B95   AMD Phenom          Desktop         NaN       NaN      NaN   \n",
       "484    2800+  AMD Sempron          Desktop         NaN       NaN      NaN   \n",
       "578  3250-HE  AMD Opteron           Server         NaN       NaN      NaN   \n",
       "582    TL-56   AMD Turion           Laptop         NaN       NaN      NaN   \n",
       "\n",
       "    Base_Clock_GHz Boost_Clock_GHz L1_Cache L2_Cache L3_Cache  \\\n",
       "414         2.7GHz    Up to 3.2GHz    768KB      3MB      6MB   \n",
       "445         3.0GHz             NaN      NaN      2MB      NaN   \n",
       "484          56MHz             NaN      NaN      NaN      NaN   \n",
       "578         2.5GHz    Up to 3.5GHz    192KB      4MB      4MB   \n",
       "582         1.8GHz             NaN      NaN      NaN      NaN   \n",
       "\n",
       "    Unlocked_for_Overclocking Chip_lithography CPU_Socket PCI_Express_Version  \\\n",
       "414                        No              NaN        AM3                 NaN   \n",
       "445                        No              NaN        AM3                 NaN   \n",
       "484                        No             65nm        939                 NaN   \n",
       "578                        No             32nm       AM3+                 NaN   \n",
       "582                        No              NaN         S1                 NaN   \n",
       "\n",
       "    Default_TDP Max._Operating_Temperature_(Tjmax) System_Memory_Type  \\\n",
       "414         95W                               71°C         Not Listed   \n",
       "445         95W                                NaN         Not Listed   \n",
       "484         45W                               70°C         Not Listed   \n",
       "578         45W                                NaN               DDR3   \n",
       "582         31W                                NaN         Not Listed   \n",
       "\n",
       "                      Graphics_Model  \n",
       "414  Discrete Graphics Card Required  \n",
       "445  Discrete Graphics Card Required  \n",
       "484  Discrete Graphics Card Required  \n",
       "578                              nan  \n",
       "582  Discrete Graphics Card Required  "
      ]
     },
     "execution_count": 28,
     "metadata": {},
     "output_type": "execute_result"
    }
   ],
   "source": [
    "cpu_nan = df[df['CPU_Core'].isna()]\n",
    "cpu_nan"
   ]
  },
  {
   "cell_type": "code",
   "execution_count": 29,
   "metadata": {},
   "outputs": [],
   "source": [
    "# cpu_core = []\n",
    "\n",
    "# for j in cpu_nan.Model:\n",
    "#     url = 'https://technical.city/en/cpu/{}'.format(j)\n",
    "#     my_header = {\"User-Agent\":\"Mozilla/5.0 (X11; Ubuntu; Linux x86_64; rv:97.0) Gecko/20100101 Firefox/97.0\", \"Accept\":\"text/html,application/xhtml+xml,application/xml;q=0.9,image/avif,image/webp,*/*;q=0.8\"}\n",
    "#     r = requests.get(url, headers= my_header).text\n",
    "\n",
    "#     soup = BeautifulSoup(r, 'html.parser')\n",
    "    \n",
    "#     try:\n",
    "#         parent1=soup.select_one('tr:has(> td:-soup-contains(\"Physical cores\"))')\n",
    "#         parent2 = parent1.find('em', class_ = 'blue')\n",
    "#         final = parent2.get_text(strip=True, separator=\" \")\n",
    "\n",
    "#         final = re.findall(r'\\d+', final)\n",
    "#         cpu_core.append(final)\n",
    "        \n",
    "#     except:\n",
    "#         cpu_core.append(np.NaN)"
   ]
  },
  {
   "cell_type": "code",
   "execution_count": 30,
   "metadata": {},
   "outputs": [],
   "source": [
    "df.CPU_Core[414] = 6.0\n",
    "df.CPU_Core[484] = 1.0\n",
    "df.CPU_Core[578] = 4.0\n",
    "df.CPU_Core[445] = 4.0\n",
    "# df.CPU_Core[578] = 4.0\n",
    "\n"
   ]
  },
  {
   "cell_type": "code",
   "execution_count": 31,
   "metadata": {},
   "outputs": [],
   "source": [
    "# df['CPU_Core'] = df['CPU_Core'].fillna([[6.0, 4.0, 8.0, 2.0]])"
   ]
  },
  {
   "cell_type": "code",
   "execution_count": 32,
   "metadata": {},
   "outputs": [
    {
     "data": {
      "text/plain": [
       "1"
      ]
     },
     "execution_count": 32,
     "metadata": {},
     "output_type": "execute_result"
    }
   ],
   "source": [
    "df['CPU_Core'].isnull().sum()"
   ]
  },
  {
   "cell_type": "markdown",
   "metadata": {},
   "source": [
    "#### 2nd Feature that have NaN! Values is '#_of_Threads'"
   ]
  },
  {
   "cell_type": "code",
   "execution_count": 33,
   "metadata": {},
   "outputs": [],
   "source": [
    "# df[df['#_of_Threads'].isna()]"
   ]
  },
  {
   "cell_type": "code",
   "execution_count": 34,
   "metadata": {},
   "outputs": [],
   "source": [
    "# We replaced the NaN by 0 because these processor doesn't have any threads \n",
    "\n",
    "# df['#_of_Threads'] = df['#_of_Threads'].fillna(0)"
   ]
  },
  {
   "cell_type": "code",
   "execution_count": 35,
   "metadata": {},
   "outputs": [],
   "source": [
    "# We converted these feature float to int because counting the cores and threads in float was not making sens\n",
    "\n",
    "# df = df.astype({\"#_of_CPU_Cores\":'int', \"#_of_Threads\":'int'})"
   ]
  },
  {
   "cell_type": "markdown",
   "metadata": {},
   "source": [
    "#### 3rd Feature that have NaN! Values is \"Boost_Clock_GHz\""
   ]
  },
  {
   "cell_type": "code",
   "execution_count": 36,
   "metadata": {},
   "outputs": [],
   "source": [
    "# df = df.astype({\"Boost_Clock_GHz\":'str'})"
   ]
  },
  {
   "cell_type": "code",
   "execution_count": 37,
   "metadata": {},
   "outputs": [],
   "source": [
    "# df.Base_Clock_GHz = [i.replace('GHz', '') for i in df.Base_Clock_GHz]\n",
    "# df.Boost_Clock_GHz = [i.replace('Up to ', '') for i in df.Boost_Clock_GHz]\n",
    "# df.Boost_Clock_GHz = [i.replace('GHz', '') for i in df.Boost_Clock_GHz]"
   ]
  },
  {
   "cell_type": "code",
   "execution_count": 38,
   "metadata": {},
   "outputs": [],
   "source": [
    "# df = df.astype({\"Base_Clock_GHz\":'float', \"Boost_Clock_GHz\":'float'})"
   ]
  },
  {
   "cell_type": "code",
   "execution_count": 39,
   "metadata": {},
   "outputs": [],
   "source": [
    "# base_mean = (df[\"Boost_Clock_GHz\"] - df.Base_Clock_GHz).mean()"
   ]
  },
  {
   "cell_type": "code",
   "execution_count": 40,
   "metadata": {},
   "outputs": [],
   "source": [
    "# boost_nan = df[df['Boost_Clock_GHz'].isna()]"
   ]
  },
  {
   "cell_type": "code",
   "execution_count": 41,
   "metadata": {},
   "outputs": [],
   "source": [
    "# boost_fill = base_mean + boost_nan.Base_Clock_GHz\n"
   ]
  },
  {
   "cell_type": "code",
   "execution_count": 42,
   "metadata": {},
   "outputs": [],
   "source": [
    "# type(boost_fill)"
   ]
  },
  {
   "cell_type": "code",
   "execution_count": 43,
   "metadata": {},
   "outputs": [],
   "source": [
    "# df['Boost_Clock_GHz'] = df['Boost_Clock_GHz'].fillna(boost_fill)"
   ]
  },
  {
   "cell_type": "code",
   "execution_count": 44,
   "metadata": {},
   "outputs": [],
   "source": [
    "# df['Boost_Clock_GHz'].isnull().sum()"
   ]
  },
  {
   "cell_type": "markdown",
   "metadata": {},
   "source": [
    "#### 4th Feature that have NaN! Values is \"'L1_Cache', 'L2_Cache','L3_Cache'\" "
   ]
  },
  {
   "cell_type": "code",
   "execution_count": 45,
   "metadata": {},
   "outputs": [],
   "source": [
    "# We filled the NaN of these three features with 0 beacause \n",
    "# we can count these three coloumn as one feature according \n",
    "# to this all the processors are having cache wether it is L1, L2 or L3\n",
    "\n",
    "# df.update(df[['L1_Cache', 'L2_Cache','L3_Cache']].fillna(0))"
   ]
  },
  {
   "cell_type": "markdown",
   "metadata": {},
   "source": [
    "#### 5th Feature that have NaN! Values is 'Unlocked_for_Overclocking'"
   ]
  },
  {
   "cell_type": "code",
   "execution_count": 46,
   "metadata": {},
   "outputs": [],
   "source": [
    "# df[df['Unlocked_for_Overclocking'].isna()].head()"
   ]
  },
  {
   "cell_type": "code",
   "execution_count": 47,
   "metadata": {},
   "outputs": [],
   "source": [
    "# I checked on google most of processor which is missing this feature \n",
    "# are not supporting overclocking that is why we replaced the nan with no\n",
    " \n",
    "# df['Unlocked_for_Overclocking'] = df['Unlocked_for_Overclocking'].fillna('No')"
   ]
  },
  {
   "cell_type": "code",
   "execution_count": 48,
   "metadata": {},
   "outputs": [],
   "source": [
    "# df['Unlocked_for_Overclocking'].value_counts()"
   ]
  },
  {
   "cell_type": "markdown",
   "metadata": {},
   "source": [
    "#### 6th Feature that have NaN! Values is 'Processor_Technology_for_CPU_Cores'"
   ]
  },
  {
   "cell_type": "code",
   "execution_count": 49,
   "metadata": {},
   "outputs": [],
   "source": [
    "# df.Model = [i.replace('™', '') for i in df.Model]\n",
    "# df.Family = [i.replace('™', '') for i in df.Family]\n"
   ]
  },
  {
   "cell_type": "code",
   "execution_count": 50,
   "metadata": {},
   "outputs": [],
   "source": [
    "# amd_epyc = df.loc[df['Family'] == 'AMD EPYC']"
   ]
  },
  {
   "cell_type": "code",
   "execution_count": 51,
   "metadata": {},
   "outputs": [],
   "source": [
    "# amd_phenom = df.loc[df['Family'] == 'AMD Phenom']"
   ]
  },
  {
   "cell_type": "code",
   "execution_count": 52,
   "metadata": {},
   "outputs": [],
   "source": [
    "# amd_epyc.Model = [i.replace('AMD EPYC ', '') for i in amd_epyc.Model]"
   ]
  },
  {
   "cell_type": "code",
   "execution_count": 53,
   "metadata": {},
   "outputs": [],
   "source": [
    "# print(ols(f\"price~{i}\",data=df).fit().summary())"
   ]
  },
  {
   "cell_type": "code",
   "execution_count": null,
   "metadata": {},
   "outputs": [],
   "source": []
  },
  {
   "cell_type": "code",
   "execution_count": null,
   "metadata": {},
   "outputs": [],
   "source": []
  },
  {
   "cell_type": "code",
   "execution_count": null,
   "metadata": {},
   "outputs": [],
   "source": []
  },
  {
   "cell_type": "code",
   "execution_count": null,
   "metadata": {},
   "outputs": [],
   "source": []
  },
  {
   "cell_type": "code",
   "execution_count": null,
   "metadata": {},
   "outputs": [],
   "source": []
  },
  {
   "cell_type": "code",
   "execution_count": null,
   "metadata": {},
   "outputs": [],
   "source": []
  },
  {
   "cell_type": "code",
   "execution_count": null,
   "metadata": {},
   "outputs": [],
   "source": []
  },
  {
   "cell_type": "code",
   "execution_count": null,
   "metadata": {},
   "outputs": [],
   "source": []
  },
  {
   "cell_type": "code",
   "execution_count": null,
   "metadata": {},
   "outputs": [],
   "source": []
  },
  {
   "cell_type": "code",
   "execution_count": null,
   "metadata": {},
   "outputs": [],
   "source": []
  },
  {
   "cell_type": "code",
   "execution_count": null,
   "metadata": {},
   "outputs": [],
   "source": []
  },
  {
   "cell_type": "code",
   "execution_count": null,
   "metadata": {},
   "outputs": [],
   "source": []
  },
  {
   "cell_type": "code",
   "execution_count": null,
   "metadata": {},
   "outputs": [],
   "source": []
  },
  {
   "cell_type": "code",
   "execution_count": null,
   "metadata": {},
   "outputs": [],
   "source": []
  },
  {
   "cell_type": "code",
   "execution_count": null,
   "metadata": {},
   "outputs": [],
   "source": []
  }
 ],
 "metadata": {
  "kernelspec": {
   "display_name": "Python 3.10.4 64-bit",
   "language": "python",
   "name": "python3"
  },
  "language_info": {
   "codemirror_mode": {
    "name": "ipython",
    "version": 3
   },
   "file_extension": ".py",
   "mimetype": "text/x-python",
   "name": "python",
   "nbconvert_exporter": "python",
   "pygments_lexer": "ipython3",
   "version": "3.10.4"
  },
  "orig_nbformat": 4,
  "vscode": {
   "interpreter": {
    "hash": "916dbcbb3f70747c44a77c7bcd40155683ae19c65e1c03b4aa3499c5328201f1"
   }
  }
 },
 "nbformat": 4,
 "nbformat_minor": 2
}
